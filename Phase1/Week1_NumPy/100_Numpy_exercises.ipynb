{
  "cells": [
    {
      "cell_type": "markdown",
      "metadata": {
        "id": "view-in-github",
        "colab_type": "text"
      },
      "source": [
        "<a href=\"https://colab.research.google.com/github/AmanPhadke/DataScience_Journey/blob/main/Phase1/Week1_NumPy/100_Numpy_exercises.ipynb\" target=\"_parent\"><img src=\"https://colab.research.google.com/assets/colab-badge.svg\" alt=\"Open In Colab\"/></a>"
      ]
    },
    {
      "cell_type": "markdown",
      "id": "5a28b949",
      "metadata": {
        "id": "5a28b949"
      },
      "source": [
        "# 100 numpy exercises\n",
        "\n",
        "This is a collection of exercises that have been collected in the numpy mailing list, on stack overflow\n",
        "and in the numpy documentation. The goal of this collection is to offer a quick reference for both old\n",
        "and new users but also to provide a set of exercises for those who teach.\n",
        "\n",
        "\n",
        "If you find an error or think you've a better way to solve some of them, feel\n",
        "free to open an issue at <https://github.com/rougier/numpy-100>."
      ]
    },
    {
      "cell_type": "markdown",
      "id": "3f7a87ec",
      "metadata": {
        "id": "3f7a87ec"
      },
      "source": [
        "File automatically generated. See the documentation to update questions/answers/hints programmatically."
      ]
    },
    {
      "cell_type": "markdown",
      "id": "854ecf1b",
      "metadata": {
        "id": "854ecf1b"
      },
      "source": [
        "Run the `initialise.py` module, then for each question you can query the\n",
        "answer or an hint with `hint(n)` or `answer(n)` for `n` question number."
      ]
    },
    {
      "cell_type": "code",
      "execution_count": 1,
      "id": "Mhjiqe1ZDnLS",
      "metadata": {
        "colab": {
          "base_uri": "https://localhost:8080/"
        },
        "id": "Mhjiqe1ZDnLS",
        "outputId": "837f7ec0-911d-462c-f280-ccd4bc57de1f"
      },
      "outputs": [
        {
          "output_type": "stream",
          "name": "stdout",
          "text": [
            "Requirement already satisfied: numpy in /usr/local/lib/python3.12/dist-packages (from -r requirements.txt (line 1)) (2.0.2)\n",
            "Collecting mdutils (from -r requirements.txt (line 2))\n",
            "  Downloading mdutils-1.8.1-py3-none-any.whl.metadata (3.5 kB)\n",
            "Requirement already satisfied: nbformat in /usr/local/lib/python3.12/dist-packages (from -r requirements.txt (line 3)) (5.10.4)\n",
            "Requirement already satisfied: fastjsonschema>=2.15 in /usr/local/lib/python3.12/dist-packages (from nbformat->-r requirements.txt (line 3)) (2.21.2)\n",
            "Requirement already satisfied: jsonschema>=2.6 in /usr/local/lib/python3.12/dist-packages (from nbformat->-r requirements.txt (line 3)) (4.25.1)\n",
            "Requirement already satisfied: jupyter-core!=5.0.*,>=4.12 in /usr/local/lib/python3.12/dist-packages (from nbformat->-r requirements.txt (line 3)) (5.9.1)\n",
            "Requirement already satisfied: traitlets>=5.1 in /usr/local/lib/python3.12/dist-packages (from nbformat->-r requirements.txt (line 3)) (5.7.1)\n",
            "Requirement already satisfied: attrs>=22.2.0 in /usr/local/lib/python3.12/dist-packages (from jsonschema>=2.6->nbformat->-r requirements.txt (line 3)) (25.4.0)\n",
            "Requirement already satisfied: jsonschema-specifications>=2023.03.6 in /usr/local/lib/python3.12/dist-packages (from jsonschema>=2.6->nbformat->-r requirements.txt (line 3)) (2025.9.1)\n",
            "Requirement already satisfied: referencing>=0.28.4 in /usr/local/lib/python3.12/dist-packages (from jsonschema>=2.6->nbformat->-r requirements.txt (line 3)) (0.37.0)\n",
            "Requirement already satisfied: rpds-py>=0.7.1 in /usr/local/lib/python3.12/dist-packages (from jsonschema>=2.6->nbformat->-r requirements.txt (line 3)) (0.27.1)\n",
            "Requirement already satisfied: platformdirs>=2.5 in /usr/local/lib/python3.12/dist-packages (from jupyter-core!=5.0.*,>=4.12->nbformat->-r requirements.txt (line 3)) (4.5.0)\n",
            "Requirement already satisfied: typing-extensions>=4.4.0 in /usr/local/lib/python3.12/dist-packages (from referencing>=0.28.4->jsonschema>=2.6->nbformat->-r requirements.txt (line 3)) (4.15.0)\n",
            "Downloading mdutils-1.8.1-py3-none-any.whl (21 kB)\n",
            "Installing collected packages: mdutils\n",
            "Successfully installed mdutils-1.8.1\n",
            "Collecting generators\n",
            "  Downloading generators-2020.4.27.tar.gz (27 kB)\n",
            "  Preparing metadata (setup.py) ... \u001b[?25l\u001b[?25hdone\n",
            "Collecting strict_functions (from generators)\n",
            "  Downloading strict_functions-2020.2.4.tar.gz (7.9 kB)\n",
            "  Preparing metadata (setup.py) ... \u001b[?25l\u001b[?25hdone\n",
            "Building wheels for collected packages: generators, strict_functions\n",
            "  Building wheel for generators (setup.py) ... \u001b[?25l\u001b[?25hdone\n",
            "  Created wheel for generators: filename=generators-2020.4.27-py3-none-any.whl size=42860 sha256=577761369ec29f07944af9a4064a130fdbb8e725273a9ef8e975ba7efeca5c8e\n",
            "  Stored in directory: /root/.cache/pip/wheels/ec/4d/f8/15b85af5b79dfe54f9517172ad9e4767ea0e1fb1b42d5637b6\n",
            "  Building wheel for strict_functions (setup.py) ... \u001b[?25l\u001b[?25hdone\n",
            "  Created wheel for strict_functions: filename=strict_functions-2020.2.4-py3-none-any.whl size=15451 sha256=ec44f9f9a9d72241257071f57d269ec7ac06bf2898ca7928fb5c2fd4586d6c8b\n",
            "  Stored in directory: /root/.cache/pip/wheels/c1/8f/21/91f158d19bdb5cf07e08b48ffc567a5e960e542f495f15977b\n",
            "Successfully built generators strict_functions\n",
            "Installing collected packages: strict_functions, generators\n",
            "Successfully installed generators-2020.4.27 strict_functions-2020.2.4\n"
          ]
        }
      ],
      "source": [
        "!pip install -r requirements.txt\n",
        "!pip install generators"
      ]
    },
    {
      "cell_type": "code",
      "execution_count": 2,
      "id": "c53ea877",
      "metadata": {
        "id": "c53ea877"
      },
      "outputs": [],
      "source": [
        "%run initialise.py"
      ]
    },
    {
      "cell_type": "markdown",
      "id": "c00df986",
      "metadata": {
        "id": "c00df986"
      },
      "source": [
        "#### 1. Import the numpy package under the name `np` (★☆☆)"
      ]
    },
    {
      "cell_type": "code",
      "execution_count": 3,
      "id": "35bde95c",
      "metadata": {
        "id": "35bde95c"
      },
      "outputs": [],
      "source": [
        "import numpy as np\n",
        "import generators as gen"
      ]
    },
    {
      "cell_type": "markdown",
      "id": "b555a89f",
      "metadata": {
        "id": "b555a89f"
      },
      "source": [
        "#### 2. Print the numpy version and the configuration (★☆☆)"
      ]
    },
    {
      "cell_type": "code",
      "execution_count": 4,
      "id": "2c9d363d",
      "metadata": {
        "id": "2c9d363d",
        "colab": {
          "base_uri": "https://localhost:8080/",
          "height": 36
        },
        "outputId": "eb5c5459-642b-47f9-c201-583fe88f0377"
      },
      "outputs": [
        {
          "output_type": "execute_result",
          "data": {
            "text/plain": [
              "'2.0.2'"
            ],
            "application/vnd.google.colaboratory.intrinsic+json": {
              "type": "string"
            }
          },
          "metadata": {},
          "execution_count": 4
        }
      ],
      "source": [
        "np.__version__"
      ]
    },
    {
      "cell_type": "markdown",
      "id": "e2713407",
      "metadata": {
        "id": "e2713407"
      },
      "source": [
        "#### 3. Create a null vector of size 10 (★☆☆)"
      ]
    },
    {
      "cell_type": "code",
      "execution_count": 5,
      "id": "6df2f6db",
      "metadata": {
        "id": "6df2f6db",
        "colab": {
          "base_uri": "https://localhost:8080/"
        },
        "outputId": "77e4f8a3-50f9-447e-c945-46add060ab49"
      },
      "outputs": [
        {
          "output_type": "execute_result",
          "data": {
            "text/plain": [
              "array([0, 0, 0, 0, 0, 0, 0, 0, 0, 0], dtype=int32)"
            ]
          },
          "metadata": {},
          "execution_count": 5
        }
      ],
      "source": [
        "a = np.zeros(10, dtype = 'int32')\n",
        "a"
      ]
    },
    {
      "cell_type": "markdown",
      "id": "5a09554f",
      "metadata": {
        "id": "5a09554f"
      },
      "source": [
        "#### 4. How to find the memory size of any array (★☆☆)"
      ]
    },
    {
      "cell_type": "code",
      "execution_count": 6,
      "id": "c55a2a00",
      "metadata": {
        "id": "c55a2a00",
        "colab": {
          "base_uri": "https://localhost:8080/"
        },
        "outputId": "20671bb7-4a03-42d5-d1b0-1b4b926d61d2"
      },
      "outputs": [
        {
          "output_type": "execute_result",
          "data": {
            "text/plain": [
              "40"
            ]
          },
          "metadata": {},
          "execution_count": 6
        }
      ],
      "source": [
        "a.nbytes"
      ]
    },
    {
      "cell_type": "markdown",
      "id": "4720d438",
      "metadata": {
        "id": "4720d438"
      },
      "source": [
        "#### 5. How to get the documentation of the numpy add function from the command line? (★☆☆)"
      ]
    },
    {
      "cell_type": "code",
      "execution_count": 7,
      "id": "d9e2277e",
      "metadata": {
        "id": "d9e2277e",
        "colab": {
          "base_uri": "https://localhost:8080/"
        },
        "outputId": "c77446de-c016-4947-cf3e-29b7d09adeb1"
      },
      "outputs": [
        {
          "output_type": "stream",
          "name": "stdout",
          "text": [
            "Help on ufunc:\n",
            "\n",
            "add = <ufunc 'add'>\n",
            "    add(x1, x2, /, out=None, *, where=True, casting='same_kind', order='K', dtype=None, subok=True[, signature])\n",
            "\n",
            "    Add arguments element-wise.\n",
            "\n",
            "    Parameters\n",
            "    ----------\n",
            "    x1, x2 : array_like\n",
            "        The arrays to be added.\n",
            "        If ``x1.shape != x2.shape``, they must be broadcastable to a common\n",
            "        shape (which becomes the shape of the output).\n",
            "    out : ndarray, None, or tuple of ndarray and None, optional\n",
            "        A location into which the result is stored. If provided, it must have\n",
            "        a shape that the inputs broadcast to. If not provided or None,\n",
            "        a freshly-allocated array is returned. A tuple (possible only as a\n",
            "        keyword argument) must have length equal to the number of outputs.\n",
            "    where : array_like, optional\n",
            "        This condition is broadcast over the input. At locations where the\n",
            "        condition is True, the `out` array will be set to the ufunc result.\n",
            "        Elsewhere, the `out` array will retain its original value.\n",
            "        Note that if an uninitialized `out` array is created via the default\n",
            "        ``out=None``, locations within it where the condition is False will\n",
            "        remain uninitialized.\n",
            "    **kwargs\n",
            "        For other keyword-only arguments, see the\n",
            "        :ref:`ufunc docs <ufuncs.kwargs>`.\n",
            "\n",
            "    Returns\n",
            "    -------\n",
            "    add : ndarray or scalar\n",
            "        The sum of `x1` and `x2`, element-wise.\n",
            "        This is a scalar if both `x1` and `x2` are scalars.\n",
            "\n",
            "    Notes\n",
            "    -----\n",
            "    Equivalent to `x1` + `x2` in terms of array broadcasting.\n",
            "\n",
            "    Examples\n",
            "    --------\n",
            "    >>> np.add(1.0, 4.0)\n",
            "    5.0\n",
            "    >>> x1 = np.arange(9.0).reshape((3, 3))\n",
            "    >>> x2 = np.arange(3.0)\n",
            "    >>> np.add(x1, x2)\n",
            "    array([[  0.,   2.,   4.],\n",
            "           [  3.,   5.,   7.],\n",
            "           [  6.,   8.,  10.]])\n",
            "\n",
            "    The ``+`` operator can be used as a shorthand for ``np.add`` on ndarrays.\n",
            "\n",
            "    >>> x1 = np.arange(9.0).reshape((3, 3))\n",
            "    >>> x2 = np.arange(3.0)\n",
            "    >>> x1 + x2\n",
            "    array([[ 0.,  2.,  4.],\n",
            "           [ 3.,  5.,  7.],\n",
            "           [ 6.,  8., 10.]])\n",
            "\n"
          ]
        }
      ],
      "source": [
        "help(np.add)"
      ]
    },
    {
      "cell_type": "markdown",
      "id": "b812d322",
      "metadata": {
        "id": "b812d322"
      },
      "source": [
        "#### 6. Create a null vector of size 10 but the fifth value which is 1 (★☆☆)"
      ]
    },
    {
      "cell_type": "code",
      "execution_count": 8,
      "id": "9f95cedf",
      "metadata": {
        "id": "9f95cedf",
        "colab": {
          "base_uri": "https://localhost:8080/"
        },
        "outputId": "0e0e0510-1777-442f-d7ef-4615979bb8a5"
      },
      "outputs": [
        {
          "output_type": "execute_result",
          "data": {
            "text/plain": [
              "array([0, 0, 0, 0, 1, 0, 0, 0, 0, 0], dtype=int32)"
            ]
          },
          "metadata": {},
          "execution_count": 8
        }
      ],
      "source": [
        "b = np.zeros(10, dtype = 'int32')\n",
        "b[4] = 1\n",
        "b"
      ]
    },
    {
      "cell_type": "markdown",
      "id": "a348f2a8",
      "metadata": {
        "id": "a348f2a8"
      },
      "source": [
        "#### 7. Create a vector with values ranging from 10 to 49 (★☆☆)"
      ]
    },
    {
      "cell_type": "code",
      "execution_count": 9,
      "id": "5a68fd5b",
      "metadata": {
        "id": "5a68fd5b",
        "colab": {
          "base_uri": "https://localhost:8080/"
        },
        "outputId": "739bc414-c0b3-4e2e-c926-1b0a19b1fa83"
      },
      "outputs": [
        {
          "output_type": "execute_result",
          "data": {
            "text/plain": [
              "array([10, 11, 12, 13, 14, 15, 16, 17, 18, 19, 20, 21, 22, 23, 24, 25, 26,\n",
              "       27, 28, 29, 30, 31, 32, 33, 34, 35, 36, 37, 38, 39, 40, 41, 42, 43,\n",
              "       44, 45, 46, 47, 48, 49])"
            ]
          },
          "metadata": {},
          "execution_count": 9
        }
      ],
      "source": [
        "c = np.arange(10,50)\n",
        "c"
      ]
    },
    {
      "cell_type": "markdown",
      "id": "2f4ca4c0",
      "metadata": {
        "id": "2f4ca4c0"
      },
      "source": [
        "#### 8. Reverse a vector (first element becomes last) (★☆☆)"
      ]
    },
    {
      "cell_type": "code",
      "execution_count": 10,
      "id": "1892e775",
      "metadata": {
        "id": "1892e775",
        "colab": {
          "base_uri": "https://localhost:8080/"
        },
        "outputId": "7a613908-9572-4c92-daa2-3ca1ae4d23b7"
      },
      "outputs": [
        {
          "output_type": "execute_result",
          "data": {
            "text/plain": [
              "array([[1., 0., 0.],\n",
              "       [0., 0., 0.],\n",
              "       [0., 0., 0.]])"
            ]
          },
          "metadata": {},
          "execution_count": 10
        }
      ],
      "source": [
        "a = np.zeros((3,3))\n",
        "a[2,2] = 1\n",
        "\n",
        "np.flip(a)"
      ]
    },
    {
      "cell_type": "markdown",
      "id": "31381832",
      "metadata": {
        "id": "31381832"
      },
      "source": [
        "#### 9. Create a 3x3 matrix with values ranging from 0 to 8 (★☆☆)"
      ]
    },
    {
      "cell_type": "code",
      "execution_count": 11,
      "id": "0154f251",
      "metadata": {
        "id": "0154f251",
        "colab": {
          "base_uri": "https://localhost:8080/"
        },
        "outputId": "426f786b-8941-4be9-8f94-771173407ff3"
      },
      "outputs": [
        {
          "output_type": "execute_result",
          "data": {
            "text/plain": [
              "array([[0, 1, 2],\n",
              "       [3, 4, 5],\n",
              "       [6, 7, 8]])"
            ]
          },
          "metadata": {},
          "execution_count": 11
        }
      ],
      "source": [
        "b= np.arange(0, 9)\n",
        "b.reshape(3,3)"
      ]
    },
    {
      "cell_type": "markdown",
      "id": "8c353e84",
      "metadata": {
        "id": "8c353e84"
      },
      "source": [
        "#### 10. Find indices of non-zero elements from [1,2,0,0,4,0] (★☆☆)"
      ]
    },
    {
      "cell_type": "code",
      "execution_count": 12,
      "id": "da3495c3",
      "metadata": {
        "id": "da3495c3",
        "colab": {
          "base_uri": "https://localhost:8080/"
        },
        "outputId": "b2af3a91-4547-41bc-a8bc-4dbec5a3946e"
      },
      "outputs": [
        {
          "output_type": "execute_result",
          "data": {
            "text/plain": [
              "(array([2, 3, 5]),)"
            ]
          },
          "metadata": {},
          "execution_count": 12
        }
      ],
      "source": [
        "a = np.array([1,2,0,0,4,0])\n",
        "# for element in a:\n",
        "#   if (element == 0):\n",
        "#     pass\n",
        "#   else:\n",
        "#     print(np.where(a == element))\n",
        "\n",
        "# b = np.nonzero(a)\n",
        "\n",
        "b = np.where( a == 0)\n",
        "b"
      ]
    },
    {
      "cell_type": "markdown",
      "id": "a26ac749",
      "metadata": {
        "id": "a26ac749"
      },
      "source": [
        "#### 11. Create a 3x3 identity matrix (★☆☆)"
      ]
    },
    {
      "cell_type": "code",
      "execution_count": 13,
      "id": "3e33feda",
      "metadata": {
        "id": "3e33feda",
        "colab": {
          "base_uri": "https://localhost:8080/"
        },
        "outputId": "955c1b0a-7815-4a6e-abdf-402f0226a350"
      },
      "outputs": [
        {
          "output_type": "execute_result",
          "data": {
            "text/plain": [
              "array([[1., 0., 0.],\n",
              "       [0., 1., 0.],\n",
              "       [0., 0., 1.]])"
            ]
          },
          "metadata": {},
          "execution_count": 13
        }
      ],
      "source": [
        "i = np.identity(3)\n",
        "i"
      ]
    },
    {
      "cell_type": "markdown",
      "id": "3a293379",
      "metadata": {
        "id": "3a293379"
      },
      "source": [
        "#### 12. Create a 3x3x3 array with random values (★☆☆)"
      ]
    },
    {
      "cell_type": "code",
      "execution_count": 14,
      "id": "2da08152",
      "metadata": {
        "id": "2da08152",
        "colab": {
          "base_uri": "https://localhost:8080/"
        },
        "outputId": "37f5a4fb-9b44-4634-f452-3ea3772faa90"
      },
      "outputs": [
        {
          "output_type": "execute_result",
          "data": {
            "text/plain": [
              "array([[[0.85291519, 0.92274362, 0.49221162],\n",
              "        [0.59851351, 0.15831248, 0.9265149 ],\n",
              "        [0.93630625, 0.6497651 , 0.94134717]],\n",
              "\n",
              "       [[0.11147463, 0.45858526, 0.98435374],\n",
              "        [0.61863208, 0.79464788, 0.39540501],\n",
              "        [0.19697523, 0.05806762, 0.59445034]],\n",
              "\n",
              "       [[0.17047591, 0.79776346, 0.25845497],\n",
              "        [0.71790322, 0.65545575, 0.92220947],\n",
              "        [0.81292879, 0.58553077, 0.06522456]]])"
            ]
          },
          "metadata": {},
          "execution_count": 14
        }
      ],
      "source": [
        "np.random.rand(3,3,3)"
      ]
    },
    {
      "cell_type": "markdown",
      "id": "e3faa924",
      "metadata": {
        "id": "e3faa924"
      },
      "source": [
        "#### 13. Create a 10x10 array with random values and find the minimum and maximum values (★☆☆)"
      ]
    },
    {
      "cell_type": "code",
      "execution_count": 15,
      "id": "e9fb3793",
      "metadata": {
        "id": "e9fb3793",
        "colab": {
          "base_uri": "https://localhost:8080/"
        },
        "outputId": "5fcf8a1d-502b-4146-f643-f71d43c594ef"
      },
      "outputs": [
        {
          "output_type": "stream",
          "name": "stdout",
          "text": [
            "3.1533693380170686 -2.2666165056148824\n"
          ]
        }
      ],
      "source": [
        "a = np.random.randn(10,10)\n",
        "min_val = np.min(a)\n",
        "max_val = np.max(a)\n",
        "print(max_val, min_val)"
      ]
    },
    {
      "cell_type": "markdown",
      "id": "317cb8d1",
      "metadata": {
        "id": "317cb8d1"
      },
      "source": [
        "#### 14. Create a random vector of size 30 and find the mean value (★☆☆)"
      ]
    },
    {
      "cell_type": "code",
      "execution_count": 16,
      "id": "4ea995d6",
      "metadata": {
        "id": "4ea995d6",
        "colab": {
          "base_uri": "https://localhost:8080/"
        },
        "outputId": "ef9010a0-0272-4970-d43d-037efbccd936"
      },
      "outputs": [
        {
          "output_type": "stream",
          "name": "stdout",
          "text": [
            "-0.14589167673754275\n"
          ]
        }
      ],
      "source": [
        "m = np.random.randn(30)\n",
        "print(np.mean(m))"
      ]
    },
    {
      "cell_type": "markdown",
      "id": "b8dee0f2",
      "metadata": {
        "id": "b8dee0f2"
      },
      "source": [
        "#### 15. Create a 2d array with 1 on the border and 0 inside (★☆☆)"
      ]
    },
    {
      "cell_type": "code",
      "execution_count": 17,
      "id": "7054464b",
      "metadata": {
        "id": "7054464b",
        "colab": {
          "base_uri": "https://localhost:8080/"
        },
        "outputId": "376ef75c-5552-43c3-d901-39fd17395fe5"
      },
      "outputs": [
        {
          "output_type": "execute_result",
          "data": {
            "text/plain": [
              "array([[1., 1., 1.],\n",
              "       [1., 0., 1.],\n",
              "       [1., 1., 1.]])"
            ]
          },
          "metadata": {},
          "execution_count": 17
        }
      ],
      "source": [
        "output = np.ones((3,3))\n",
        "output[1,1] = 0\n",
        "output\n"
      ]
    },
    {
      "cell_type": "markdown",
      "id": "1476f45f",
      "metadata": {
        "id": "1476f45f"
      },
      "source": [
        "#### 16. How to add a border (filled with 0's) around an existing array? (★☆☆)"
      ]
    },
    {
      "cell_type": "code",
      "execution_count": 18,
      "id": "4f0212af",
      "metadata": {
        "id": "4f0212af",
        "colab": {
          "base_uri": "https://localhost:8080/"
        },
        "outputId": "67fc179d-cd40-4c07-cc59-0cd43cca7520"
      },
      "outputs": [
        {
          "output_type": "execute_result",
          "data": {
            "text/plain": [
              "array([[0., 0., 0., 0., 0.],\n",
              "       [0., 1., 1., 1., 0.],\n",
              "       [0., 1., 1., 1., 0.],\n",
              "       [0., 1., 1., 1., 0.],\n",
              "       [0., 0., 0., 0., 0.]])"
            ]
          },
          "metadata": {},
          "execution_count": 18
        }
      ],
      "source": [
        "e_array = np.ones((3,3))\n",
        "# z_array = np.zeros((5,5))\n",
        "# z_array[1:-1,1:-1] = e_array\n",
        "# print(z_array)\n",
        "\n",
        "n= np.pad(e_array, 1)\n",
        "n"
      ]
    },
    {
      "cell_type": "markdown",
      "id": "52844dc7",
      "metadata": {
        "id": "52844dc7"
      },
      "source": [
        "#### 17. What is the result of the following expression? (★☆☆)\n",
        "```python\n",
        "0 * np.nan\n",
        "np.nan == np.nan\n",
        "np.inf > np.nan\n",
        "np.nan - np.nan\n",
        "np.nan in set([np.nan])\n",
        "0.3 == 3 * 0.1\n",
        "```"
      ]
    },
    {
      "cell_type": "code",
      "execution_count": 18,
      "id": "cfdb7352",
      "metadata": {
        "id": "cfdb7352"
      },
      "outputs": [],
      "source": []
    },
    {
      "cell_type": "markdown",
      "id": "9801c961",
      "metadata": {
        "id": "9801c961"
      },
      "source": [
        "#### 18. Create a 5x5 matrix with values 1,2,3,4 just below the diagonal (★☆☆)"
      ]
    },
    {
      "cell_type": "code",
      "execution_count": 19,
      "id": "4e97651a",
      "metadata": {
        "id": "4e97651a",
        "colab": {
          "base_uri": "https://localhost:8080/"
        },
        "outputId": "03d466ff-ecec-4748-f599-512157a1bcc8"
      },
      "outputs": [
        {
          "output_type": "execute_result",
          "data": {
            "text/plain": [
              "array([[0, 0, 0, 0, 0],\n",
              "       [1, 0, 0, 0, 0],\n",
              "       [0, 2, 0, 0, 0],\n",
              "       [0, 0, 3, 0, 0],\n",
              "       [0, 0, 0, 4, 0]])"
            ]
          },
          "metadata": {},
          "execution_count": 19
        }
      ],
      "source": [
        "matrix = np.arange(1,5)\n",
        "diag = np.diag(matrix, k=-1)\n",
        "diag"
      ]
    },
    {
      "cell_type": "markdown",
      "id": "3dc05e9f",
      "metadata": {
        "id": "3dc05e9f"
      },
      "source": [
        "#### 19. Create a 8x8 matrix and fill it with a checkerboard pattern (★☆☆)"
      ]
    },
    {
      "cell_type": "code",
      "execution_count": 20,
      "id": "0b100b85",
      "metadata": {
        "id": "0b100b85",
        "colab": {
          "base_uri": "https://localhost:8080/"
        },
        "outputId": "be8d40f4-855c-499a-e6c1-aba83be81fe6"
      },
      "outputs": [
        {
          "output_type": "execute_result",
          "data": {
            "text/plain": [
              "array([[1., 0., 1., 0., 1., 0., 1., 0.],\n",
              "       [0., 1., 0., 1., 0., 1., 0., 1.],\n",
              "       [1., 0., 1., 0., 1., 0., 1., 0.],\n",
              "       [0., 1., 0., 1., 0., 1., 0., 1.],\n",
              "       [1., 0., 1., 0., 1., 0., 1., 0.],\n",
              "       [0., 1., 0., 1., 0., 1., 0., 1.],\n",
              "       [1., 0., 1., 0., 1., 0., 1., 0.],\n",
              "       [0., 1., 0., 1., 0., 1., 0., 1.]])"
            ]
          },
          "metadata": {},
          "execution_count": 20
        }
      ],
      "source": [
        "check = np.zeros((8,8))\n",
        "check[::2, ::2] = 1\n",
        "check[1::2, 1::2] = 1\n",
        "check"
      ]
    },
    {
      "cell_type": "markdown",
      "id": "d8e941b6",
      "metadata": {
        "id": "d8e941b6"
      },
      "source": [
        "#### 20. Consider a (6,7,8) shape array, what is the index (x,y,z) of the 100th element? (★☆☆)"
      ]
    },
    {
      "cell_type": "code",
      "execution_count": 21,
      "id": "b3bc1fcb",
      "metadata": {
        "id": "b3bc1fcb",
        "colab": {
          "base_uri": "https://localhost:8080/"
        },
        "outputId": "ea3e540c-453a-4b32-e4a1-086e324c6829"
      },
      "outputs": [
        {
          "output_type": "execute_result",
          "data": {
            "text/plain": [
              "(np.int64(1), np.int64(5), np.int64(3))"
            ]
          },
          "metadata": {},
          "execution_count": 21
        }
      ],
      "source": [
        "np.unravel_index(99, (6,7,8))\n"
      ]
    },
    {
      "cell_type": "markdown",
      "id": "bf3b8ab3",
      "metadata": {
        "id": "bf3b8ab3"
      },
      "source": [
        "#### 21. Create a checkerboard 8x8 matrix using the tile function (★☆☆)"
      ]
    },
    {
      "cell_type": "code",
      "execution_count": 22,
      "id": "eb15c681",
      "metadata": {
        "id": "eb15c681",
        "colab": {
          "base_uri": "https://localhost:8080/"
        },
        "outputId": "6dd66fb4-ab5a-4948-9efb-09904ee7dc90"
      },
      "outputs": [
        {
          "output_type": "execute_result",
          "data": {
            "text/plain": [
              "array([[1, 0, 1, 0, 1, 0, 1, 0],\n",
              "       [0, 1, 0, 1, 0, 1, 0, 1],\n",
              "       [1, 0, 1, 0, 1, 0, 1, 0],\n",
              "       [0, 1, 0, 1, 0, 1, 0, 1],\n",
              "       [1, 0, 1, 0, 1, 0, 1, 0],\n",
              "       [0, 1, 0, 1, 0, 1, 0, 1],\n",
              "       [1, 0, 1, 0, 1, 0, 1, 0],\n",
              "       [0, 1, 0, 1, 0, 1, 0, 1]])"
            ]
          },
          "metadata": {},
          "execution_count": 22
        }
      ],
      "source": [
        "a = np.array([1,0])\n",
        "a1 = np.tile(a, 4)\n",
        "b = np.array([0,1])\n",
        "b1 = np.tile(b, 4)\n",
        "np.vstack((a1,b1,a1,b1,a1,b1,a1,b1))"
      ]
    },
    {
      "cell_type": "markdown",
      "id": "71af9d19",
      "metadata": {
        "id": "71af9d19"
      },
      "source": [
        "#### 22. Normalize a 5x5 random matrix (★☆☆)"
      ]
    },
    {
      "cell_type": "code",
      "execution_count": 23,
      "id": "df20b788",
      "metadata": {
        "id": "df20b788",
        "colab": {
          "base_uri": "https://localhost:8080/"
        },
        "outputId": "eea9a5b5-1be2-4eea-e4f0-e9dfc7d83835"
      },
      "outputs": [
        {
          "output_type": "stream",
          "name": "stdout",
          "text": [
            "[[0.85365854 0.         0.         0.6875     0.        ]\n",
            " [0.3902439  0.78125    0.28947368 0.53125    0.33333333]\n",
            " [0.54878049 0.83333333 1.         0.328125   0.63636364]\n",
            " [0.         1.         0.13157895 0.         1.        ]\n",
            " [1.         0.44791667 0.81578947 1.         0.66666667]]\n",
            "[[ 0 -1 -1  0 -1]\n",
            " [ 0  0  0  0  0]\n",
            " [ 0  0  1  0  0]\n",
            " [-1  1  0 -1  1]\n",
            " [ 1  0  0  1  0]]\n"
          ]
        }
      ],
      "source": [
        "rng = np.random.default_rng()\n",
        "x = rng.integers(100, size =(5,5))\n",
        "\n",
        "#with min-max scaling\n",
        "min_val = x.min(axis=0)\n",
        "max_val = x.max(axis=0)\n",
        "\n",
        "\n",
        "norm1 = (x - min_val) / (max_val - min_val)\n",
        "\n",
        "print(norm1)\n",
        "\n",
        "#With standardization\n",
        "mean = x.mean(axis=0)\n",
        "std = x.std(axis=0)\n",
        "\n",
        "\n",
        "norm2 = ( x - mean ) / std\n",
        "norm2 = norm2.astype('int32')\n",
        "print(norm2)\n"
      ]
    },
    {
      "cell_type": "markdown",
      "id": "01cd9893",
      "metadata": {
        "id": "01cd9893"
      },
      "source": [
        "#### 23. Create a custom dtype that describes a color as four unsigned bytes (RGBA) (★☆☆)"
      ]
    },
    {
      "cell_type": "code",
      "execution_count": 24,
      "id": "4acddc2f",
      "metadata": {
        "id": "4acddc2f",
        "colab": {
          "base_uri": "https://localhost:8080/"
        },
        "outputId": "f99320bd-793d-4bbc-8179-85bd80b4aad1"
      },
      "outputs": [
        {
          "output_type": "execute_result",
          "data": {
            "text/plain": [
              "array([(255, 0, 0, 255)],\n",
              "      dtype=[('R', 'u1'), ('G', 'u1'), ('B', 'u1'), ('A', 'u1')])"
            ]
          },
          "metadata": {},
          "execution_count": 24
        }
      ],
      "source": [
        "rgb_dtype = np.dtype([\n",
        "        ('R', 'u1'),\n",
        "        ('G', 'u1'),\n",
        "        ('B', 'u1'),\n",
        "        ('A', 'u1')\n",
        "    ])\n",
        "\n",
        "\n",
        "color = np.array([(255,0,0,255)], dtype = rgb_dtype)\n",
        "\n",
        "color"
      ]
    },
    {
      "cell_type": "markdown",
      "id": "0ef5f38b",
      "metadata": {
        "id": "0ef5f38b"
      },
      "source": [
        "#### 24. Multiply a 5x3 matrix by a 3x2 matrix (real matrix product) (★☆☆)"
      ]
    },
    {
      "cell_type": "code",
      "execution_count": 25,
      "id": "3d36d4a0",
      "metadata": {
        "id": "3d36d4a0",
        "colab": {
          "base_uri": "https://localhost:8080/"
        },
        "outputId": "b2dc500d-b8de-4339-831a-1b16e0ce6a9f"
      },
      "outputs": [
        {
          "output_type": "stream",
          "name": "stdout",
          "text": [
            "A Matrix: \n",
            " [[9 4 2]\n",
            " [8 7 4]\n",
            " [7 5 1]\n",
            " [0 1 7]\n",
            " [0 2 5]]\n",
            "B Matrix: \n",
            " [[7 8]\n",
            " [3 5]\n",
            " [3 2]]\n",
            "C Matrix: \n",
            " [[ 81  96]\n",
            " [ 89 107]\n",
            " [ 67  83]\n",
            " [ 24  19]\n",
            " [ 21  20]]\n"
          ]
        }
      ],
      "source": [
        "rng = np.random.default_rng()\n",
        "a = rng.integers(10, size = (5,3))\n",
        "b = rng.integers(10, size = (3,2))\n",
        "c = a @ b\n",
        "print(\"A Matrix: \\n\", a)\n",
        "print(\"B Matrix: \\n\", b)\n",
        "print(\"C Matrix: \\n\", c)"
      ]
    },
    {
      "cell_type": "markdown",
      "id": "a46db425",
      "metadata": {
        "id": "a46db425"
      },
      "source": [
        "#### 25. Given a 1D array, negate all elements which are between 3 and 8, in place. (★☆☆)"
      ]
    },
    {
      "cell_type": "code",
      "execution_count": 26,
      "id": "86e3d6a8",
      "metadata": {
        "id": "86e3d6a8",
        "colab": {
          "base_uri": "https://localhost:8080/"
        },
        "outputId": "37469793-82e1-4f93-a746-98884489d4af"
      },
      "outputs": [
        {
          "output_type": "execute_result",
          "data": {
            "text/plain": [
              "array([ 1,  2,  3, -4, -5, -6, -7,  8,  9, 10])"
            ]
          },
          "metadata": {},
          "execution_count": 26
        }
      ],
      "source": [
        "a = np.array([1,2,3,4,5,6,7,8,9,10])\n",
        "between = ((a > 3) & (a < 8))\n",
        "a[between] *= -1\n",
        "a"
      ]
    },
    {
      "cell_type": "markdown",
      "id": "89fa6007",
      "metadata": {
        "id": "89fa6007"
      },
      "source": [
        "#### 26. What is the output of the following script? (★☆☆)\n",
        "```python\n",
        "# Author: Jake VanderPlas\n",
        "\n",
        "print(sum(range(5),-1))\n",
        "from numpy import *\n",
        "print(sum(range(5),-1))\n",
        "```"
      ]
    },
    {
      "cell_type": "code",
      "execution_count": 27,
      "id": "59f2c6dc",
      "metadata": {
        "id": "59f2c6dc",
        "colab": {
          "base_uri": "https://localhost:8080/"
        },
        "outputId": "7a8176a0-a3ee-4ba3-8fb9-85c3610a2056"
      },
      "outputs": [
        {
          "output_type": "stream",
          "name": "stdout",
          "text": [
            "9\n",
            "10\n"
          ]
        }
      ],
      "source": [
        "print(sum(range(5),-1))\n",
        "from numpy import *\n",
        "print(sum(range(5),-1))"
      ]
    },
    {
      "cell_type": "markdown",
      "id": "38de4589",
      "metadata": {
        "id": "38de4589"
      },
      "source": [
        "#### 27. Consider an integer vector Z, which of these expressions are legal? (★☆☆)\n",
        "```python\n",
        "Z**Z\n",
        "2 << Z >> 2\n",
        "Z <- Z\n",
        "1j*Z\n",
        "Z/1/1\n",
        "Z<Z>Z\n",
        "```"
      ]
    },
    {
      "cell_type": "markdown",
      "id": "77c8b8c7",
      "metadata": {
        "id": "77c8b8c7"
      },
      "source": [
        "#### 28. What are the result of the following expressions? (★☆☆)\n",
        "```python\n",
        "np.array(0) / np.array(0)\n",
        "np.array(0) // np.array(0)\n",
        "np.array([np.nan]).astype(int).astype(float)\n",
        "```"
      ]
    },
    {
      "cell_type": "code",
      "execution_count": 28,
      "id": "3b66fe44",
      "metadata": {
        "id": "3b66fe44",
        "colab": {
          "base_uri": "https://localhost:8080/"
        },
        "outputId": "039bf55f-fef6-40e1-f5e6-8d9f537b5fd2"
      },
      "outputs": [
        {
          "output_type": "stream",
          "name": "stderr",
          "text": [
            "/tmp/ipython-input-699728972.py:1: RuntimeWarning: invalid value encountered in cast\n",
            "  np.array([np.nan]).astype(int).astype(float)\n"
          ]
        },
        {
          "output_type": "execute_result",
          "data": {
            "text/plain": [
              "array([-9.22337204e+18])"
            ]
          },
          "metadata": {},
          "execution_count": 28
        }
      ],
      "source": [
        "np.array([np.nan]).astype(int).astype(float)"
      ]
    },
    {
      "cell_type": "markdown",
      "id": "1f3f0892",
      "metadata": {
        "id": "1f3f0892"
      },
      "source": [
        "#### 29. How to round away from zero a float array ? (★☆☆)"
      ]
    },
    {
      "cell_type": "code",
      "execution_count": 29,
      "id": "8fce1bd7",
      "metadata": {
        "id": "8fce1bd7",
        "colab": {
          "base_uri": "https://localhost:8080/"
        },
        "outputId": "abf1c9de-06c5-4e69-b9c8-5139fa501746"
      },
      "outputs": [
        {
          "output_type": "execute_result",
          "data": {
            "text/plain": [
              "array([ 2.,  6., -2., -5., -4.,  6.])"
            ]
          },
          "metadata": {},
          "execution_count": 29
        }
      ],
      "source": [
        "arr = np.array([1.4, 5.6, -1.8, -4.3, -3.3, 5.6 ])\n",
        "np.where( arr > 0, np.ceil(arr), np.floor(arr))"
      ]
    },
    {
      "cell_type": "markdown",
      "id": "53f47438",
      "metadata": {
        "id": "53f47438"
      },
      "source": [
        "#### 30. How to find common values between two arrays? (★☆☆)"
      ]
    },
    {
      "cell_type": "code",
      "execution_count": 30,
      "id": "ALqLRYoyXiKn",
      "metadata": {
        "id": "ALqLRYoyXiKn",
        "colab": {
          "base_uri": "https://localhost:8080/"
        },
        "outputId": "f2379447-5e6c-4130-876d-5d5664efa135"
      },
      "outputs": [
        {
          "output_type": "execute_result",
          "data": {
            "text/plain": [
              "(array([0, 1, 2, 3, 4]),)"
            ]
          },
          "metadata": {},
          "execution_count": 30
        }
      ],
      "source": [
        "one = np.arange(5)\n",
        "two = np.arange(5)\n",
        "\n",
        "np.where(one == two)\n"
      ]
    },
    {
      "cell_type": "markdown",
      "id": "51cf9109",
      "metadata": {
        "id": "51cf9109"
      },
      "source": [
        "#### 31. How to ignore all numpy warnings (not recommended)? (★☆☆)"
      ]
    },
    {
      "cell_type": "code",
      "execution_count": 30,
      "id": "09ba7521",
      "metadata": {
        "id": "09ba7521"
      },
      "outputs": [],
      "source": []
    },
    {
      "cell_type": "markdown",
      "id": "948a691b",
      "metadata": {
        "id": "948a691b"
      },
      "source": [
        "#### 32. Is the following expressions true? (★☆☆)\n",
        "```python\n",
        "np.sqrt(-1) == np.emath.sqrt(-1)\n",
        "```"
      ]
    },
    {
      "cell_type": "code",
      "execution_count": 31,
      "id": "6d8f745b",
      "metadata": {
        "id": "6d8f745b",
        "colab": {
          "base_uri": "https://localhost:8080/"
        },
        "outputId": "bbc80308-bea3-41a9-954e-01f925c1fcf7"
      },
      "outputs": [
        {
          "output_type": "stream",
          "name": "stderr",
          "text": [
            "/tmp/ipython-input-244602691.py:1: RuntimeWarning: invalid value encountered in sqrt\n",
            "  np.sqrt(-1) == np.emath.sqrt(-1)\n"
          ]
        },
        {
          "output_type": "execute_result",
          "data": {
            "text/plain": [
              "np.False_"
            ]
          },
          "metadata": {},
          "execution_count": 31
        }
      ],
      "source": [
        "np.sqrt(-1) == np.emath.sqrt(-1)"
      ]
    },
    {
      "cell_type": "markdown",
      "id": "d1a8992e",
      "metadata": {
        "id": "d1a8992e"
      },
      "source": [
        "#### 33. How to get the dates of yesterday, today and tomorrow? (★☆☆)"
      ]
    },
    {
      "cell_type": "code",
      "execution_count": 32,
      "id": "31a1ade2",
      "metadata": {
        "id": "31a1ade2",
        "colab": {
          "base_uri": "https://localhost:8080/"
        },
        "outputId": "07f921bc-b729-4eef-823f-49f74a738a45"
      },
      "outputs": [
        {
          "output_type": "stream",
          "name": "stdout",
          "text": [
            "2025-10-25 \n",
            " 2025-10-24 \n",
            " 2025-10-26\n"
          ]
        }
      ],
      "source": [
        "today = np.datetime64('today','D')\n",
        "yesterday = today - np.timedelta64(1)\n",
        "tomorrow = today + np.timedelta64(1)\n",
        "\n",
        "print(today ,'\\n', yesterday,'\\n', tomorrow)"
      ]
    },
    {
      "cell_type": "markdown",
      "id": "01378794",
      "metadata": {
        "id": "01378794"
      },
      "source": [
        "#\n",
        "\n",
        "### 34. How to get all the dates corresponding to the month of July 2016? (★★☆)"
      ]
    },
    {
      "cell_type": "code",
      "execution_count": 33,
      "id": "928c55c6",
      "metadata": {
        "id": "928c55c6",
        "colab": {
          "base_uri": "https://localhost:8080/"
        },
        "outputId": "227504e4-57a1-452d-eae7-0b7f27c9923a"
      },
      "outputs": [
        {
          "output_type": "execute_result",
          "data": {
            "text/plain": [
              "array(['2016-07-01', '2016-07-02', '2016-07-03', '2016-07-04',\n",
              "       '2016-07-05', '2016-07-06', '2016-07-07', '2016-07-08',\n",
              "       '2016-07-09', '2016-07-10', '2016-07-11', '2016-07-12',\n",
              "       '2016-07-13', '2016-07-14', '2016-07-15', '2016-07-16',\n",
              "       '2016-07-17', '2016-07-18', '2016-07-19', '2016-07-20',\n",
              "       '2016-07-21', '2016-07-22', '2016-07-23', '2016-07-24',\n",
              "       '2016-07-25', '2016-07-26', '2016-07-27', '2016-07-28',\n",
              "       '2016-07-29', '2016-07-30', '2016-07-31'], dtype='datetime64[D]')"
            ]
          },
          "metadata": {},
          "execution_count": 33
        }
      ],
      "source": [
        "july = np.arange('2016-07-01','2016-08-01', dtype= 'datetime64[D]')\n",
        "july"
      ]
    },
    {
      "cell_type": "markdown",
      "id": "e3f8fe94",
      "metadata": {
        "id": "e3f8fe94"
      },
      "source": [
        "#### 35. How to compute ((A+B)*(-A/2)) in place (without copy)? (★★☆)"
      ]
    },
    {
      "cell_type": "code",
      "execution_count": 34,
      "id": "14e478d5",
      "metadata": {
        "id": "14e478d5",
        "colab": {
          "base_uri": "https://localhost:8080/"
        },
        "outputId": "bd9562c1-9299-4a2f-cf3b-44378372ba92"
      },
      "outputs": [
        {
          "output_type": "stream",
          "name": "stdout",
          "text": [
            "[  0.  -1.  -4.  -9. -16. -25. -36. -49. -64. -81.]\n",
            "[  0  -1  -4  -9 -16 -25 -36 -49 -64 -81]\n"
          ]
        }
      ],
      "source": [
        "a = np.arange(10)\n",
        "b = np.arange(10)\n",
        "c = a + b\n",
        "d = (-a)/2\n",
        "print(c*d)\n",
        "\n",
        "np.add(a,b)\n",
        "np.negative(a,out=a)\n",
        "np.divide(a,2)\n",
        "print(np.multiply(a,b))\n"
      ]
    },
    {
      "cell_type": "markdown",
      "id": "5c4d58c9",
      "metadata": {
        "id": "5c4d58c9"
      },
      "source": [
        "#### 36. Extract the integer part of a random array of positive numbers using 4 different methods (★★☆)"
      ]
    },
    {
      "cell_type": "code",
      "execution_count": 35,
      "id": "586beded",
      "metadata": {
        "id": "586beded",
        "colab": {
          "base_uri": "https://localhost:8080/"
        },
        "outputId": "683238eb-c561-4823-c673-5ffb814477ce"
      },
      "outputs": [
        {
          "output_type": "stream",
          "name": "stdout",
          "text": [
            "[ 1.  3.  4.  5.  3.  0. -1.  0.] [ 1.  3.  4.  5.  3.  0. -2.  0.] [ 1  3  4  5  3  0 -1  0] [ 2.  3.  4.  5.  4.  1. -1.  0.]\n"
          ]
        }
      ],
      "source": [
        "arr = np.array([1.2, 3, 4 , 5 ,3.64, 0.11, -1.3, 0])\n",
        "\n",
        "#Method 1\n",
        "truncate = np.trunc(arr)\n",
        "\n",
        "#Method 2\n",
        "floor = np.floor(arr)\n",
        "\n",
        "#Method 3\n",
        "integer = arr.astype('int32')\n",
        "\n",
        "#Method 4\n",
        "ceil = np.ceil(arr)\n",
        "\n",
        "print(truncate, floor, integer, ceil)"
      ]
    },
    {
      "cell_type": "markdown",
      "id": "62628653",
      "metadata": {
        "id": "62628653"
      },
      "source": [
        "#### 37. Create a 5x5 matrix with row values ranging from 0 to 4 (★★☆)"
      ]
    },
    {
      "cell_type": "code",
      "execution_count": 36,
      "id": "e57763b3",
      "metadata": {
        "id": "e57763b3",
        "colab": {
          "base_uri": "https://localhost:8080/"
        },
        "outputId": "97ce99c6-893b-48f6-9a03-7de4a2a56f68"
      },
      "outputs": [
        {
          "output_type": "execute_result",
          "data": {
            "text/plain": [
              "array([0, 1, 2, 3, 4])"
            ]
          },
          "metadata": {},
          "execution_count": 36
        }
      ],
      "source": [
        "arr = np.zeros((5,5))\n",
        "arr = np.arange(5)\n",
        "arr\n",
        "\n",
        "# arr = (x for x in range(5))\n",
        "# np.fromiter(arr, float)\n"
      ]
    },
    {
      "cell_type": "markdown",
      "id": "d3d46d64",
      "metadata": {
        "id": "d3d46d64"
      },
      "source": [
        "#### 38. Consider a generator function that generates 10 integers and use it to build an array (★☆☆)"
      ]
    },
    {
      "cell_type": "code",
      "execution_count": 37,
      "id": "24590d8c",
      "metadata": {
        "id": "24590d8c"
      },
      "outputs": [],
      "source": [
        "import generators as gn"
      ]
    },
    {
      "cell_type": "markdown",
      "id": "5e1e51e4",
      "metadata": {
        "id": "5e1e51e4"
      },
      "source": [
        "#### 39. Create a vector of size 10 with values ranging from 0 to 1, both excluded (★★☆)"
      ]
    },
    {
      "cell_type": "code",
      "execution_count": 38,
      "id": "def73884",
      "metadata": {
        "id": "def73884",
        "colab": {
          "base_uri": "https://localhost:8080/"
        },
        "outputId": "d8cfa146-39bc-45f6-cd57-bf13cb907f3c"
      },
      "outputs": [
        {
          "output_type": "execute_result",
          "data": {
            "text/plain": [
              "array([0.09090909, 0.18181818, 0.27272727, 0.36363636, 0.45454545,\n",
              "       0.54545455, 0.63636364, 0.72727273, 0.81818182, 0.90909091])"
            ]
          },
          "metadata": {},
          "execution_count": 38
        }
      ],
      "source": [
        "arr = np.linspace(0,1, num = 11, endpoint = False, )[1:]\n",
        "arr"
      ]
    },
    {
      "cell_type": "markdown",
      "id": "9e19964c",
      "metadata": {
        "id": "9e19964c"
      },
      "source": [
        "#### 40. Create a random vector of size 10 and sort it (★★☆)"
      ]
    },
    {
      "cell_type": "code",
      "execution_count": 39,
      "id": "ec302eb1",
      "metadata": {
        "id": "ec302eb1",
        "colab": {
          "base_uri": "https://localhost:8080/"
        },
        "outputId": "dc6a8e29-0fb6-44cb-ed8c-0f7ab0835b80"
      },
      "outputs": [
        {
          "output_type": "execute_result",
          "data": {
            "text/plain": [
              "array([0, 0, 3, 5, 6, 7, 7, 8, 8, 9])"
            ]
          },
          "metadata": {},
          "execution_count": 39
        }
      ],
      "source": [
        "arr = rng.integers(10, size = 10)\n",
        "np.sort(arr)"
      ]
    },
    {
      "cell_type": "markdown",
      "id": "13a034e2",
      "metadata": {
        "id": "13a034e2"
      },
      "source": [
        "#### 41. How to sum a small array faster than np.sum? (★★☆)"
      ]
    },
    {
      "cell_type": "code",
      "execution_count": 40,
      "id": "b09a3551",
      "metadata": {
        "id": "b09a3551",
        "colab": {
          "base_uri": "https://localhost:8080/"
        },
        "outputId": "fc12520c-fc80-4bf1-b21f-61f8613c7f88"
      },
      "outputs": [
        {
          "output_type": "stream",
          "name": "stdout",
          "text": [
            "10 10\n"
          ]
        }
      ],
      "source": [
        "arr2 = np.sum([1,2,3,4])\n",
        "\n",
        "arr1 = np.array([1,2,3,4])\n",
        "arr1 = np.add.reduce(arr1)\n",
        "\n",
        "print(arr1, arr2)"
      ]
    },
    {
      "cell_type": "markdown",
      "id": "32d10473",
      "metadata": {
        "id": "32d10473"
      },
      "source": [
        "#### 42. Consider two random arrays A and B, check if they are equal (★★☆)"
      ]
    },
    {
      "cell_type": "code",
      "execution_count": 41,
      "id": "5ebb1103",
      "metadata": {
        "id": "5ebb1103",
        "colab": {
          "base_uri": "https://localhost:8080/"
        },
        "outputId": "9615a6b1-0c13-421a-b0b3-0bfc6537c7d4"
      },
      "outputs": [
        {
          "output_type": "execute_result",
          "data": {
            "text/plain": [
              "True"
            ]
          },
          "metadata": {},
          "execution_count": 41
        }
      ],
      "source": [
        "arr1 = np.array([1,2,3,4,5])\n",
        "arr2 = np.array([1,2,3,4,5])\n",
        "\n",
        "np.allclose(arr1,arr2)"
      ]
    },
    {
      "cell_type": "markdown",
      "id": "a50474b0",
      "metadata": {
        "id": "a50474b0"
      },
      "source": [
        "#### 43. Make an array immutable (read-only) (★★☆)"
      ]
    },
    {
      "cell_type": "code",
      "execution_count": 42,
      "id": "db6fe176",
      "metadata": {
        "id": "db6fe176",
        "colab": {
          "base_uri": "https://localhost:8080/"
        },
        "outputId": "dcf8e863-ecc7-4ff7-f9b1-e6333b1bb825"
      },
      "outputs": [
        {
          "output_type": "execute_result",
          "data": {
            "text/plain": [
              "array([1, 2, 3, 4, 5])"
            ]
          },
          "metadata": {},
          "execution_count": 42
        }
      ],
      "source": [
        "arr = np.array([1,2,3,4,5])\n",
        "arr.flags.writeable = False\n",
        "\n",
        "arr"
      ]
    },
    {
      "cell_type": "markdown",
      "id": "b7a6093e",
      "metadata": {
        "id": "b7a6093e"
      },
      "source": [
        "#### 44. Consider a random 10x2 matrix representing cartesian coordinates, convert them to polar coordinates (★★☆)"
      ]
    },
    {
      "cell_type": "code",
      "execution_count": 43,
      "id": "4479c48d",
      "metadata": {
        "id": "4479c48d",
        "colab": {
          "base_uri": "https://localhost:8080/"
        },
        "outputId": "67dc2ee1-09f1-4d18-fe66-5b75e39b8c1e"
      },
      "outputs": [
        {
          "output_type": "execute_result",
          "data": {
            "text/plain": [
              "array([[ 5.83095189,  0.5404195 ],\n",
              "       [ 2.23606798,  1.10714872],\n",
              "       [ 6.        ,  1.57079633],\n",
              "       [ 4.47213595,  0.46364761],\n",
              "       [ 5.        ,  0.92729522],\n",
              "       [ 8.60232527,  0.62024949],\n",
              "       [ 6.32455532,  0.32175055],\n",
              "       [ 9.21954446,  0.70862627],\n",
              "       [ 3.60555128,  0.5880026 ],\n",
              "       [11.40175425,  0.66104317]])"
            ]
          },
          "metadata": {},
          "execution_count": 43
        }
      ],
      "source": [
        "cart = rng.integers(10, size=(10,2))\n",
        "# print(cart)\n",
        "x, y = cart[:, 0], cart[:, 1]\n",
        "x2 = x*x\n",
        "y2 = y*y\n",
        "r = x2+y2\n",
        "r = np.sqrt(r)\n",
        "\n",
        "theta = np.arctan2(y, x)\n",
        "\n",
        "polar = np.empty((10,2))\n",
        "polar[:,0], polar[:,1] = r, theta\n",
        "\n",
        "polar\n"
      ]
    },
    {
      "cell_type": "markdown",
      "id": "934f889c",
      "metadata": {
        "id": "934f889c"
      },
      "source": [
        "#### 45. Create random vector of size 10 and replace the maximum value by 0 (★★☆)"
      ]
    },
    {
      "cell_type": "code",
      "execution_count": 44,
      "id": "4b576814",
      "metadata": {
        "id": "4b576814",
        "colab": {
          "base_uri": "https://localhost:8080/"
        },
        "outputId": "d6801db9-677d-4c01-bde2-f89a3b2e50d4"
      },
      "outputs": [
        {
          "output_type": "execute_result",
          "data": {
            "text/plain": [
              "array([1, 2, 3, 4, 5, 6, 7, 8, 0, 0])"
            ]
          },
          "metadata": {},
          "execution_count": 44
        }
      ],
      "source": [
        "arr = np.array([1,2,3,4,5,6,7,8,9,0])\n",
        "\n",
        "maxNum = np.argmax(arr)\n",
        "\n",
        "arr[maxNum] = 0\n",
        "arr\n"
      ]
    },
    {
      "cell_type": "markdown",
      "id": "d4f6e2e1",
      "metadata": {
        "id": "d4f6e2e1"
      },
      "source": [
        "#### 46. Create a structured array with `x` and `y` coordinates covering the [0,1]x[0,1] area (★★☆)"
      ]
    },
    {
      "cell_type": "code",
      "execution_count": 45,
      "id": "f90f969b",
      "metadata": {
        "id": "f90f969b",
        "colab": {
          "base_uri": "https://localhost:8080/"
        },
        "outputId": "e157b515-ca6c-49e0-9b23-cf2a3155470a"
      },
      "outputs": [
        {
          "output_type": "stream",
          "name": "stdout",
          "text": [
            "[[(0. , 0. ) (0.5, 0. ) (1. , 0. )]\n",
            " [(0. , 0.5) (0.5, 0.5) (1. , 0.5)]\n",
            " [(0. , 1. ) (0.5, 1. ) (1. , 1. )]]\n"
          ]
        }
      ],
      "source": [
        "x = np.linspace(0, 1, 3)\n",
        "y = np.linspace(0, 1, 3)\n",
        "\n",
        "X, Y = np.meshgrid(x,y)\n",
        "\n",
        "structured_array = np.zeros(X.shape, dtype=[('x', 'f8'), ('y', 'f8')])\n",
        "structured_array['x'] = X\n",
        "structured_array['y'] = Y\n",
        "\n",
        "print(structured_array)"
      ]
    },
    {
      "cell_type": "markdown",
      "id": "bc9c88d3",
      "metadata": {
        "id": "bc9c88d3"
      },
      "source": [
        "#### 47. Given two arrays, X and Y, construct the Cauchy matrix C (Cij =1/(xi - yj)) (★★☆)"
      ]
    },
    {
      "cell_type": "code",
      "execution_count": 46,
      "id": "e90ad595",
      "metadata": {
        "id": "e90ad595",
        "colab": {
          "base_uri": "https://localhost:8080/"
        },
        "outputId": "df34a55f-8570-4b89-8e26-c9c72ac326c2"
      },
      "outputs": [
        {
          "output_type": "execute_result",
          "data": {
            "text/plain": [
              "array([[-0.25      , -0.2       , -0.16666667],\n",
              "       [-0.33333333, -0.25      , -0.2       ],\n",
              "       [-0.5       , -0.33333333, -0.25      ]])"
            ]
          },
          "metadata": {},
          "execution_count": 46
        }
      ],
      "source": [
        "x = np.array([1,2,3])\n",
        "y = np.array([5,6,7])\n",
        "\n",
        "den = np.subtract.outer(x, y)\n",
        "C = 1 / den\n",
        "\n",
        "C"
      ]
    },
    {
      "cell_type": "markdown",
      "id": "a840a52f",
      "metadata": {
        "id": "a840a52f"
      },
      "source": [
        "#### 48. Print the minimum and maximum representable values for each numpy scalar type (★★☆)"
      ]
    },
    {
      "cell_type": "code",
      "execution_count": 46,
      "id": "d2eb3b4a",
      "metadata": {
        "id": "d2eb3b4a"
      },
      "outputs": [],
      "source": []
    },
    {
      "cell_type": "markdown",
      "id": "0a0819d5",
      "metadata": {
        "id": "0a0819d5"
      },
      "source": [
        "#### 49. How to print all the values of an array? (★★☆)"
      ]
    },
    {
      "cell_type": "code",
      "execution_count": 50,
      "id": "d76dbf55",
      "metadata": {
        "id": "d76dbf55",
        "colab": {
          "base_uri": "https://localhost:8080/"
        },
        "outputId": "d3c4f776-2399-49af-b86d-0c85b892cbd3"
      },
      "outputs": [
        {
          "output_type": "stream",
          "name": "stdout",
          "text": [
            "[[0. 0. 0. 0. 0. 0. 0. 0. 0. 0. 0. 0. 0. 0. 0. 0. 0. 0. 0. 0. 0. 0. 0. 0.\n",
            "  0. 0. 0. 0. 0. 0. 0. 0. 0. 0. 0. 0. 0. 0. 0. 0.]\n",
            " [0. 0. 0. 0. 0. 0. 0. 0. 0. 0. 0. 0. 0. 0. 0. 0. 0. 0. 0. 0. 0. 0. 0. 0.\n",
            "  0. 0. 0. 0. 0. 0. 0. 0. 0. 0. 0. 0. 0. 0. 0. 0.]\n",
            " [0. 0. 0. 0. 0. 0. 0. 0. 0. 0. 0. 0. 0. 0. 0. 0. 0. 0. 0. 0. 0. 0. 0. 0.\n",
            "  0. 0. 0. 0. 0. 0. 0. 0. 0. 0. 0. 0. 0. 0. 0. 0.]\n",
            " [0. 0. 0. 0. 0. 0. 0. 0. 0. 0. 0. 0. 0. 0. 0. 0. 0. 0. 0. 0. 0. 0. 0. 0.\n",
            "  0. 0. 0. 0. 0. 0. 0. 0. 0. 0. 0. 0. 0. 0. 0. 0.]\n",
            " [0. 0. 0. 0. 0. 0. 0. 0. 0. 0. 0. 0. 0. 0. 0. 0. 0. 0. 0. 0. 0. 0. 0. 0.\n",
            "  0. 0. 0. 0. 0. 0. 0. 0. 0. 0. 0. 0. 0. 0. 0. 0.]\n",
            " [0. 0. 0. 0. 0. 0. 0. 0. 0. 0. 0. 0. 0. 0. 0. 0. 0. 0. 0. 0. 0. 0. 0. 0.\n",
            "  0. 0. 0. 0. 0. 0. 0. 0. 0. 0. 0. 0. 0. 0. 0. 0.]\n",
            " [0. 0. 0. 0. 0. 0. 0. 0. 0. 0. 0. 0. 0. 0. 0. 0. 0. 0. 0. 0. 0. 0. 0. 0.\n",
            "  0. 0. 0. 0. 0. 0. 0. 0. 0. 0. 0. 0. 0. 0. 0. 0.]\n",
            " [0. 0. 0. 0. 0. 0. 0. 0. 0. 0. 0. 0. 0. 0. 0. 0. 0. 0. 0. 0. 0. 0. 0. 0.\n",
            "  0. 0. 0. 0. 0. 0. 0. 0. 0. 0. 0. 0. 0. 0. 0. 0.]\n",
            " [0. 0. 0. 0. 0. 0. 0. 0. 0. 0. 0. 0. 0. 0. 0. 0. 0. 0. 0. 0. 0. 0. 0. 0.\n",
            "  0. 0. 0. 0. 0. 0. 0. 0. 0. 0. 0. 0. 0. 0. 0. 0.]\n",
            " [0. 0. 0. 0. 0. 0. 0. 0. 0. 0. 0. 0. 0. 0. 0. 0. 0. 0. 0. 0. 0. 0. 0. 0.\n",
            "  0. 0. 0. 0. 0. 0. 0. 0. 0. 0. 0. 0. 0. 0. 0. 0.]\n",
            " [0. 0. 0. 0. 0. 0. 0. 0. 0. 0. 0. 0. 0. 0. 0. 0. 0. 0. 0. 0. 0. 0. 0. 0.\n",
            "  0. 0. 0. 0. 0. 0. 0. 0. 0. 0. 0. 0. 0. 0. 0. 0.]\n",
            " [0. 0. 0. 0. 0. 0. 0. 0. 0. 0. 0. 0. 0. 0. 0. 0. 0. 0. 0. 0. 0. 0. 0. 0.\n",
            "  0. 0. 0. 0. 0. 0. 0. 0. 0. 0. 0. 0. 0. 0. 0. 0.]\n",
            " [0. 0. 0. 0. 0. 0. 0. 0. 0. 0. 0. 0. 0. 0. 0. 0. 0. 0. 0. 0. 0. 0. 0. 0.\n",
            "  0. 0. 0. 0. 0. 0. 0. 0. 0. 0. 0. 0. 0. 0. 0. 0.]\n",
            " [0. 0. 0. 0. 0. 0. 0. 0. 0. 0. 0. 0. 0. 0. 0. 0. 0. 0. 0. 0. 0. 0. 0. 0.\n",
            "  0. 0. 0. 0. 0. 0. 0. 0. 0. 0. 0. 0. 0. 0. 0. 0.]\n",
            " [0. 0. 0. 0. 0. 0. 0. 0. 0. 0. 0. 0. 0. 0. 0. 0. 0. 0. 0. 0. 0. 0. 0. 0.\n",
            "  0. 0. 0. 0. 0. 0. 0. 0. 0. 0. 0. 0. 0. 0. 0. 0.]\n",
            " [0. 0. 0. 0. 0. 0. 0. 0. 0. 0. 0. 0. 0. 0. 0. 0. 0. 0. 0. 0. 0. 0. 0. 0.\n",
            "  0. 0. 0. 0. 0. 0. 0. 0. 0. 0. 0. 0. 0. 0. 0. 0.]\n",
            " [0. 0. 0. 0. 0. 0. 0. 0. 0. 0. 0. 0. 0. 0. 0. 0. 0. 0. 0. 0. 0. 0. 0. 0.\n",
            "  0. 0. 0. 0. 0. 0. 0. 0. 0. 0. 0. 0. 0. 0. 0. 0.]\n",
            " [0. 0. 0. 0. 0. 0. 0. 0. 0. 0. 0. 0. 0. 0. 0. 0. 0. 0. 0. 0. 0. 0. 0. 0.\n",
            "  0. 0. 0. 0. 0. 0. 0. 0. 0. 0. 0. 0. 0. 0. 0. 0.]\n",
            " [0. 0. 0. 0. 0. 0. 0. 0. 0. 0. 0. 0. 0. 0. 0. 0. 0. 0. 0. 0. 0. 0. 0. 0.\n",
            "  0. 0. 0. 0. 0. 0. 0. 0. 0. 0. 0. 0. 0. 0. 0. 0.]\n",
            " [0. 0. 0. 0. 0. 0. 0. 0. 0. 0. 0. 0. 0. 0. 0. 0. 0. 0. 0. 0. 0. 0. 0. 0.\n",
            "  0. 0. 0. 0. 0. 0. 0. 0. 0. 0. 0. 0. 0. 0. 0. 0.]\n",
            " [0. 0. 0. 0. 0. 0. 0. 0. 0. 0. 0. 0. 0. 0. 0. 0. 0. 0. 0. 0. 0. 0. 0. 0.\n",
            "  0. 0. 0. 0. 0. 0. 0. 0. 0. 0. 0. 0. 0. 0. 0. 0.]\n",
            " [0. 0. 0. 0. 0. 0. 0. 0. 0. 0. 0. 0. 0. 0. 0. 0. 0. 0. 0. 0. 0. 0. 0. 0.\n",
            "  0. 0. 0. 0. 0. 0. 0. 0. 0. 0. 0. 0. 0. 0. 0. 0.]\n",
            " [0. 0. 0. 0. 0. 0. 0. 0. 0. 0. 0. 0. 0. 0. 0. 0. 0. 0. 0. 0. 0. 0. 0. 0.\n",
            "  0. 0. 0. 0. 0. 0. 0. 0. 0. 0. 0. 0. 0. 0. 0. 0.]\n",
            " [0. 0. 0. 0. 0. 0. 0. 0. 0. 0. 0. 0. 0. 0. 0. 0. 0. 0. 0. 0. 0. 0. 0. 0.\n",
            "  0. 0. 0. 0. 0. 0. 0. 0. 0. 0. 0. 0. 0. 0. 0. 0.]\n",
            " [0. 0. 0. 0. 0. 0. 0. 0. 0. 0. 0. 0. 0. 0. 0. 0. 0. 0. 0. 0. 0. 0. 0. 0.\n",
            "  0. 0. 0. 0. 0. 0. 0. 0. 0. 0. 0. 0. 0. 0. 0. 0.]\n",
            " [0. 0. 0. 0. 0. 0. 0. 0. 0. 0. 0. 0. 0. 0. 0. 0. 0. 0. 0. 0. 0. 0. 0. 0.\n",
            "  0. 0. 0. 0. 0. 0. 0. 0. 0. 0. 0. 0. 0. 0. 0. 0.]\n",
            " [0. 0. 0. 0. 0. 0. 0. 0. 0. 0. 0. 0. 0. 0. 0. 0. 0. 0. 0. 0. 0. 0. 0. 0.\n",
            "  0. 0. 0. 0. 0. 0. 0. 0. 0. 0. 0. 0. 0. 0. 0. 0.]\n",
            " [0. 0. 0. 0. 0. 0. 0. 0. 0. 0. 0. 0. 0. 0. 0. 0. 0. 0. 0. 0. 0. 0. 0. 0.\n",
            "  0. 0. 0. 0. 0. 0. 0. 0. 0. 0. 0. 0. 0. 0. 0. 0.]\n",
            " [0. 0. 0. 0. 0. 0. 0. 0. 0. 0. 0. 0. 0. 0. 0. 0. 0. 0. 0. 0. 0. 0. 0. 0.\n",
            "  0. 0. 0. 0. 0. 0. 0. 0. 0. 0. 0. 0. 0. 0. 0. 0.]\n",
            " [0. 0. 0. 0. 0. 0. 0. 0. 0. 0. 0. 0. 0. 0. 0. 0. 0. 0. 0. 0. 0. 0. 0. 0.\n",
            "  0. 0. 0. 0. 0. 0. 0. 0. 0. 0. 0. 0. 0. 0. 0. 0.]\n",
            " [0. 0. 0. 0. 0. 0. 0. 0. 0. 0. 0. 0. 0. 0. 0. 0. 0. 0. 0. 0. 0. 0. 0. 0.\n",
            "  0. 0. 0. 0. 0. 0. 0. 0. 0. 0. 0. 0. 0. 0. 0. 0.]\n",
            " [0. 0. 0. 0. 0. 0. 0. 0. 0. 0. 0. 0. 0. 0. 0. 0. 0. 0. 0. 0. 0. 0. 0. 0.\n",
            "  0. 0. 0. 0. 0. 0. 0. 0. 0. 0. 0. 0. 0. 0. 0. 0.]\n",
            " [0. 0. 0. 0. 0. 0. 0. 0. 0. 0. 0. 0. 0. 0. 0. 0. 0. 0. 0. 0. 0. 0. 0. 0.\n",
            "  0. 0. 0. 0. 0. 0. 0. 0. 0. 0. 0. 0. 0. 0. 0. 0.]\n",
            " [0. 0. 0. 0. 0. 0. 0. 0. 0. 0. 0. 0. 0. 0. 0. 0. 0. 0. 0. 0. 0. 0. 0. 0.\n",
            "  0. 0. 0. 0. 0. 0. 0. 0. 0. 0. 0. 0. 0. 0. 0. 0.]\n",
            " [0. 0. 0. 0. 0. 0. 0. 0. 0. 0. 0. 0. 0. 0. 0. 0. 0. 0. 0. 0. 0. 0. 0. 0.\n",
            "  0. 0. 0. 0. 0. 0. 0. 0. 0. 0. 0. 0. 0. 0. 0. 0.]\n",
            " [0. 0. 0. 0. 0. 0. 0. 0. 0. 0. 0. 0. 0. 0. 0. 0. 0. 0. 0. 0. 0. 0. 0. 0.\n",
            "  0. 0. 0. 0. 0. 0. 0. 0. 0. 0. 0. 0. 0. 0. 0. 0.]\n",
            " [0. 0. 0. 0. 0. 0. 0. 0. 0. 0. 0. 0. 0. 0. 0. 0. 0. 0. 0. 0. 0. 0. 0. 0.\n",
            "  0. 0. 0. 0. 0. 0. 0. 0. 0. 0. 0. 0. 0. 0. 0. 0.]\n",
            " [0. 0. 0. 0. 0. 0. 0. 0. 0. 0. 0. 0. 0. 0. 0. 0. 0. 0. 0. 0. 0. 0. 0. 0.\n",
            "  0. 0. 0. 0. 0. 0. 0. 0. 0. 0. 0. 0. 0. 0. 0. 0.]\n",
            " [0. 0. 0. 0. 0. 0. 0. 0. 0. 0. 0. 0. 0. 0. 0. 0. 0. 0. 0. 0. 0. 0. 0. 0.\n",
            "  0. 0. 0. 0. 0. 0. 0. 0. 0. 0. 0. 0. 0. 0. 0. 0.]\n",
            " [0. 0. 0. 0. 0. 0. 0. 0. 0. 0. 0. 0. 0. 0. 0. 0. 0. 0. 0. 0. 0. 0. 0. 0.\n",
            "  0. 0. 0. 0. 0. 0. 0. 0. 0. 0. 0. 0. 0. 0. 0. 0.]]\n"
          ]
        }
      ],
      "source": [
        "np.set_printoptions(threshold = float(\"inf\"))\n",
        "\n",
        "arr = np.zeros((40,40))\n",
        "\n",
        "print(arr)"
      ]
    },
    {
      "cell_type": "markdown",
      "id": "50c62214",
      "metadata": {
        "id": "50c62214"
      },
      "source": [
        "#### 50. How to find the closest value (to a given scalar) in a vector? (★★☆)"
      ]
    },
    {
      "cell_type": "code",
      "execution_count": 49,
      "id": "24b45bb5",
      "metadata": {
        "id": "24b45bb5",
        "colab": {
          "base_uri": "https://localhost:8080/"
        },
        "outputId": "abb9b58c-7c2f-42a5-b897-68213eb8bcf7"
      },
      "outputs": [
        {
          "output_type": "stream",
          "name": "stdout",
          "text": [
            "4\n"
          ]
        }
      ],
      "source": [
        "a = 4\n",
        "arr = np.array([1,2,3,4,5,6])\n",
        "\n",
        "for element in arr:\n",
        "  if (element == a):\n",
        "    print(element)\n",
        "  else:\n",
        "    continue"
      ]
    },
    {
      "cell_type": "markdown",
      "id": "4c5a5116",
      "metadata": {
        "id": "4c5a5116"
      },
      "source": [
        "#### 51. Create a structured array representing a position (x,y) and a color (r,g,b) (★★☆)"
      ]
    },
    {
      "cell_type": "code",
      "execution_count": null,
      "id": "275806b2",
      "metadata": {
        "id": "275806b2"
      },
      "outputs": [],
      "source": []
    },
    {
      "cell_type": "markdown",
      "id": "1d3399ca",
      "metadata": {
        "id": "1d3399ca"
      },
      "source": [
        "#### 52. Consider a random vector with shape (100,2) representing coordinates, find point by point distances (★★☆)"
      ]
    },
    {
      "cell_type": "code",
      "execution_count": null,
      "id": "67eae5bf",
      "metadata": {
        "id": "67eae5bf"
      },
      "outputs": [],
      "source": []
    },
    {
      "cell_type": "markdown",
      "id": "003ff920",
      "metadata": {
        "id": "003ff920"
      },
      "source": [
        "#### 53. How to convert a float (32 bits) array into an integer (32 bits) array in place?"
      ]
    },
    {
      "cell_type": "code",
      "execution_count": null,
      "id": "76245e6d",
      "metadata": {
        "id": "76245e6d"
      },
      "outputs": [],
      "source": []
    },
    {
      "cell_type": "markdown",
      "id": "0c99eac4",
      "metadata": {
        "id": "0c99eac4"
      },
      "source": [
        "#### 54. How to read the following file? (★★☆)\n",
        "```\n",
        "1, 2, 3, 4, 5\n",
        "6,  ,  , 7, 8\n",
        " ,  , 9,10,11\n",
        "```"
      ]
    },
    {
      "cell_type": "code",
      "execution_count": null,
      "id": "55c6bf8c",
      "metadata": {
        "id": "55c6bf8c"
      },
      "outputs": [],
      "source": []
    },
    {
      "cell_type": "markdown",
      "id": "8cd30360",
      "metadata": {
        "id": "8cd30360"
      },
      "source": [
        "#### 55. What is the equivalent of enumerate for numpy arrays? (★★☆)"
      ]
    },
    {
      "cell_type": "code",
      "execution_count": null,
      "id": "608315ba",
      "metadata": {
        "id": "608315ba"
      },
      "outputs": [],
      "source": []
    },
    {
      "cell_type": "markdown",
      "id": "4823a294",
      "metadata": {
        "id": "4823a294"
      },
      "source": [
        "#### 56. Generate a generic 2D Gaussian-like array (★★☆)"
      ]
    },
    {
      "cell_type": "code",
      "execution_count": null,
      "id": "9b3b682d",
      "metadata": {
        "id": "9b3b682d"
      },
      "outputs": [],
      "source": []
    },
    {
      "cell_type": "markdown",
      "id": "2dd8891d",
      "metadata": {
        "id": "2dd8891d"
      },
      "source": [
        "#### 57. How to randomly place p elements in a 2D array? (★★☆)"
      ]
    },
    {
      "cell_type": "code",
      "execution_count": null,
      "id": "a55c52dc",
      "metadata": {
        "id": "a55c52dc"
      },
      "outputs": [],
      "source": []
    },
    {
      "cell_type": "markdown",
      "id": "270b6834",
      "metadata": {
        "id": "270b6834"
      },
      "source": [
        "#### 58. Subtract the mean of each row of a matrix (★★☆)"
      ]
    },
    {
      "cell_type": "code",
      "execution_count": null,
      "id": "814080c9",
      "metadata": {
        "id": "814080c9"
      },
      "outputs": [],
      "source": []
    },
    {
      "cell_type": "markdown",
      "id": "52c92916",
      "metadata": {
        "id": "52c92916"
      },
      "source": [
        "#### 59. How to sort an array by the nth column? (★★☆)"
      ]
    },
    {
      "cell_type": "code",
      "execution_count": null,
      "id": "c6ebac6d",
      "metadata": {
        "id": "c6ebac6d"
      },
      "outputs": [],
      "source": []
    },
    {
      "cell_type": "markdown",
      "id": "05cef60b",
      "metadata": {
        "id": "05cef60b"
      },
      "source": [
        "#### 60. How to tell if a given 2D array has null columns? (★★☆)"
      ]
    },
    {
      "cell_type": "code",
      "execution_count": null,
      "id": "7979b467",
      "metadata": {
        "id": "7979b467"
      },
      "outputs": [],
      "source": []
    },
    {
      "cell_type": "markdown",
      "id": "4891fdf5",
      "metadata": {
        "id": "4891fdf5"
      },
      "source": [
        "#### 61. Find the nearest value from a given value in an array (★★☆)"
      ]
    },
    {
      "cell_type": "code",
      "execution_count": null,
      "id": "b38950fd",
      "metadata": {
        "id": "b38950fd"
      },
      "outputs": [],
      "source": []
    },
    {
      "cell_type": "markdown",
      "id": "b34bfbc7",
      "metadata": {
        "id": "b34bfbc7"
      },
      "source": [
        "#### 62. Considering two arrays with shape (1,3) and (3,1), how to compute their sum using an iterator? (★★☆)"
      ]
    },
    {
      "cell_type": "code",
      "execution_count": null,
      "id": "aa7eb006",
      "metadata": {
        "id": "aa7eb006"
      },
      "outputs": [],
      "source": []
    },
    {
      "cell_type": "markdown",
      "id": "77a27b83",
      "metadata": {
        "id": "77a27b83"
      },
      "source": [
        "#### 63. Create an array class that has a name attribute (★★☆)"
      ]
    },
    {
      "cell_type": "code",
      "execution_count": null,
      "id": "a2a83936",
      "metadata": {
        "id": "a2a83936"
      },
      "outputs": [],
      "source": []
    },
    {
      "cell_type": "markdown",
      "id": "f7f5d229",
      "metadata": {
        "id": "f7f5d229"
      },
      "source": [
        "#### 64. Consider a given vector, how to add 1 to each element indexed by a second vector (be careful with repeated indices)? (★★★)"
      ]
    },
    {
      "cell_type": "code",
      "execution_count": null,
      "id": "9b8f8f48",
      "metadata": {
        "id": "9b8f8f48"
      },
      "outputs": [],
      "source": []
    },
    {
      "cell_type": "markdown",
      "id": "b067fca8",
      "metadata": {
        "id": "b067fca8"
      },
      "source": [
        "#### 65. How to accumulate elements of a vector (X) to an array (F) based on an index list (I)? (★★★)"
      ]
    },
    {
      "cell_type": "code",
      "execution_count": null,
      "id": "f983f8ba",
      "metadata": {
        "id": "f983f8ba"
      },
      "outputs": [],
      "source": []
    },
    {
      "cell_type": "markdown",
      "id": "765e2b8e",
      "metadata": {
        "id": "765e2b8e"
      },
      "source": [
        "#### 66. Considering a (w,h,3) image of (dtype=ubyte), compute the number of unique colors (★★☆)"
      ]
    },
    {
      "cell_type": "code",
      "execution_count": null,
      "id": "7572d90d",
      "metadata": {
        "id": "7572d90d"
      },
      "outputs": [],
      "source": []
    },
    {
      "cell_type": "markdown",
      "id": "02743317",
      "metadata": {
        "id": "02743317"
      },
      "source": [
        "#### 67. Considering a four dimensions array, how to get sum over the last two axis at once? (★★★)"
      ]
    },
    {
      "cell_type": "code",
      "execution_count": null,
      "id": "980b5c45",
      "metadata": {
        "id": "980b5c45"
      },
      "outputs": [],
      "source": []
    },
    {
      "cell_type": "markdown",
      "id": "fe8b8107",
      "metadata": {
        "id": "fe8b8107"
      },
      "source": [
        "#### 68. Considering a one-dimensional vector D, how to compute means of subsets of D using a vector S of same size describing subset  indices? (★★★)"
      ]
    },
    {
      "cell_type": "code",
      "execution_count": null,
      "id": "9c17c8c9",
      "metadata": {
        "id": "9c17c8c9"
      },
      "outputs": [],
      "source": []
    },
    {
      "cell_type": "markdown",
      "id": "7efa1173",
      "metadata": {
        "id": "7efa1173"
      },
      "source": [
        "#### 69. How to get the diagonal of a dot product? (★★★)"
      ]
    },
    {
      "cell_type": "code",
      "execution_count": null,
      "id": "59fc6a51",
      "metadata": {
        "id": "59fc6a51"
      },
      "outputs": [],
      "source": []
    },
    {
      "cell_type": "markdown",
      "id": "b72adc30",
      "metadata": {
        "id": "b72adc30"
      },
      "source": [
        "#### 70. Consider the vector [1, 2, 3, 4, 5], how to build a new vector with 3 consecutive zeros interleaved between each value? (★★★)"
      ]
    },
    {
      "cell_type": "code",
      "execution_count": null,
      "id": "94b582b4",
      "metadata": {
        "id": "94b582b4"
      },
      "outputs": [],
      "source": []
    },
    {
      "cell_type": "markdown",
      "id": "fafa05b8",
      "metadata": {
        "id": "fafa05b8"
      },
      "source": [
        "#### 71. Consider an array of dimension (5,5,3), how to multiply it by an array with dimensions (5,5)? (★★★)"
      ]
    },
    {
      "cell_type": "code",
      "execution_count": null,
      "id": "0dbb5bd4",
      "metadata": {
        "id": "0dbb5bd4"
      },
      "outputs": [],
      "source": []
    },
    {
      "cell_type": "markdown",
      "id": "35a2bae5",
      "metadata": {
        "id": "35a2bae5"
      },
      "source": [
        "#### 72. How to swap two rows of an array? (★★★)"
      ]
    },
    {
      "cell_type": "code",
      "execution_count": null,
      "id": "d63b30c3",
      "metadata": {
        "id": "d63b30c3"
      },
      "outputs": [],
      "source": []
    },
    {
      "cell_type": "markdown",
      "id": "b760fc57",
      "metadata": {
        "id": "b760fc57"
      },
      "source": [
        "#### 73. Consider a set of 10 triplets describing 10 triangles (with shared vertices), find the set of unique line segments composing all the  triangles (★★★)"
      ]
    },
    {
      "cell_type": "code",
      "execution_count": null,
      "id": "01738774",
      "metadata": {
        "id": "01738774"
      },
      "outputs": [],
      "source": []
    },
    {
      "cell_type": "markdown",
      "id": "2d28cdaa",
      "metadata": {
        "id": "2d28cdaa"
      },
      "source": [
        "#### 74. Given a sorted array C that corresponds to a bincount, how to produce an array A such that np.bincount(A) == C? (★★★)"
      ]
    },
    {
      "cell_type": "code",
      "execution_count": null,
      "id": "8423859b",
      "metadata": {
        "id": "8423859b"
      },
      "outputs": [],
      "source": []
    },
    {
      "cell_type": "markdown",
      "id": "5f4cafbd",
      "metadata": {
        "id": "5f4cafbd"
      },
      "source": [
        "#### 75. How to compute averages using a sliding window over an array? (★★★)"
      ]
    },
    {
      "cell_type": "code",
      "execution_count": null,
      "id": "62d6d514",
      "metadata": {
        "id": "62d6d514"
      },
      "outputs": [],
      "source": []
    },
    {
      "cell_type": "markdown",
      "id": "575d8bb4",
      "metadata": {
        "id": "575d8bb4"
      },
      "source": [
        "#### 76. Consider a one-dimensional array Z, build a two-dimensional array whose first row is (Z[0],Z[1],Z[2]) and each subsequent row is  shifted by 1 (last row should be (Z[-3],Z[-2],Z[-1]) (★★★)"
      ]
    },
    {
      "cell_type": "code",
      "execution_count": null,
      "id": "2a41d341",
      "metadata": {
        "id": "2a41d341"
      },
      "outputs": [],
      "source": []
    },
    {
      "cell_type": "markdown",
      "id": "80dc0b2a",
      "metadata": {
        "id": "80dc0b2a"
      },
      "source": [
        "#### 77. How to negate a boolean, or to change the sign of a float inplace? (★★★)"
      ]
    },
    {
      "cell_type": "code",
      "execution_count": null,
      "id": "6fc68014",
      "metadata": {
        "id": "6fc68014"
      },
      "outputs": [],
      "source": []
    },
    {
      "cell_type": "markdown",
      "id": "7288634d",
      "metadata": {
        "id": "7288634d"
      },
      "source": [
        "#### 78. Consider 2 sets of points P0,P1 describing lines (2d) and a point p, how to compute distance from p to each line i (P0[i],P1[i])? (★★★)"
      ]
    },
    {
      "cell_type": "code",
      "execution_count": null,
      "id": "4602caa6",
      "metadata": {
        "id": "4602caa6"
      },
      "outputs": [],
      "source": []
    },
    {
      "cell_type": "markdown",
      "id": "e1880e79",
      "metadata": {
        "id": "e1880e79"
      },
      "source": [
        "#### 79. Consider 2 sets of points P0,P1 describing lines (2d) and a set of points P, how to compute distance from each point j (P[j]) to each line i (P0[i],P1[i])? (★★★)"
      ]
    },
    {
      "cell_type": "code",
      "execution_count": null,
      "id": "a14e151b",
      "metadata": {
        "id": "a14e151b"
      },
      "outputs": [],
      "source": []
    },
    {
      "cell_type": "markdown",
      "id": "b8a2a287",
      "metadata": {
        "id": "b8a2a287"
      },
      "source": [
        "#### 80. Consider an arbitrary array, write a function that extracts a subpart with a fixed shape and centered on a given element (pad with a `fill` value when necessary) (★★★)"
      ]
    },
    {
      "cell_type": "code",
      "execution_count": null,
      "id": "86af1186",
      "metadata": {
        "id": "86af1186"
      },
      "outputs": [],
      "source": []
    },
    {
      "cell_type": "markdown",
      "id": "caa64150",
      "metadata": {
        "id": "caa64150"
      },
      "source": [
        "#### 81. Consider an array Z = [1,2,3,4,5,6,7,8,9,10,11,12,13,14], how to generate an array R = [[1,2,3,4], [2,3,4,5], [3,4,5,6], ..., [11,12,13,14]]? (★★★)"
      ]
    },
    {
      "cell_type": "code",
      "execution_count": null,
      "id": "4e7cc696",
      "metadata": {
        "id": "4e7cc696"
      },
      "outputs": [],
      "source": []
    },
    {
      "cell_type": "markdown",
      "id": "9444c83b",
      "metadata": {
        "id": "9444c83b"
      },
      "source": [
        "#### 82. Compute a matrix rank (★★★)"
      ]
    },
    {
      "cell_type": "code",
      "execution_count": null,
      "id": "9e5c1d64",
      "metadata": {
        "id": "9e5c1d64"
      },
      "outputs": [],
      "source": []
    },
    {
      "cell_type": "markdown",
      "id": "6eef9f33",
      "metadata": {
        "id": "6eef9f33"
      },
      "source": [
        "#### 83. How to find the most frequent value in an array?"
      ]
    },
    {
      "cell_type": "code",
      "execution_count": null,
      "id": "9fb60e52",
      "metadata": {
        "id": "9fb60e52"
      },
      "outputs": [],
      "source": []
    },
    {
      "cell_type": "markdown",
      "id": "65f370f9",
      "metadata": {
        "id": "65f370f9"
      },
      "source": [
        "#### 84. Extract all the contiguous 3x3 blocks from a random 10x10 matrix (★★★)"
      ]
    },
    {
      "cell_type": "code",
      "execution_count": null,
      "id": "65ade1a6",
      "metadata": {
        "id": "65ade1a6"
      },
      "outputs": [],
      "source": []
    },
    {
      "cell_type": "markdown",
      "id": "845ad7f8",
      "metadata": {
        "id": "845ad7f8"
      },
      "source": [
        "#### 85. Create a 2D array subclass such that Z[i,j] == Z[j,i] (★★★)"
      ]
    },
    {
      "cell_type": "code",
      "execution_count": null,
      "id": "30b1ba71",
      "metadata": {
        "id": "30b1ba71"
      },
      "outputs": [],
      "source": []
    },
    {
      "cell_type": "markdown",
      "id": "adc48f02",
      "metadata": {
        "id": "adc48f02"
      },
      "source": [
        "#### 86. Consider a set of p matrices with shape (n,n) and a set of p vectors with shape (n,1). How to compute the sum of of the p matrix products at once? (result has shape (n,1)) (★★★)"
      ]
    },
    {
      "cell_type": "code",
      "execution_count": null,
      "id": "ec798e90",
      "metadata": {
        "id": "ec798e90"
      },
      "outputs": [],
      "source": []
    },
    {
      "cell_type": "markdown",
      "id": "9efb34b2",
      "metadata": {
        "id": "9efb34b2"
      },
      "source": [
        "#### 87. Consider a 16x16 array, how to get the block-sum (block size is 4x4)? (★★★)"
      ]
    },
    {
      "cell_type": "code",
      "execution_count": null,
      "id": "ea79f40b",
      "metadata": {
        "id": "ea79f40b"
      },
      "outputs": [],
      "source": []
    },
    {
      "cell_type": "markdown",
      "id": "a9368578",
      "metadata": {
        "id": "a9368578"
      },
      "source": [
        "#### 88. How to implement the Game of Life using numpy arrays? (★★★)"
      ]
    },
    {
      "cell_type": "code",
      "execution_count": null,
      "id": "315e9f11",
      "metadata": {
        "id": "315e9f11"
      },
      "outputs": [],
      "source": []
    },
    {
      "cell_type": "markdown",
      "id": "8c598af3",
      "metadata": {
        "id": "8c598af3"
      },
      "source": [
        "#### 89. How to get the n largest values of an array (★★★)"
      ]
    },
    {
      "cell_type": "code",
      "execution_count": null,
      "id": "cba8d433",
      "metadata": {
        "id": "cba8d433"
      },
      "outputs": [],
      "source": []
    },
    {
      "cell_type": "markdown",
      "id": "036a3bb0",
      "metadata": {
        "id": "036a3bb0"
      },
      "source": [
        "#### 90. Given an arbitrary number of vectors, build the cartesian product (every combination of every item) (★★★)"
      ]
    },
    {
      "cell_type": "code",
      "execution_count": null,
      "id": "d712972d",
      "metadata": {
        "id": "d712972d"
      },
      "outputs": [],
      "source": []
    },
    {
      "cell_type": "markdown",
      "id": "36487aab",
      "metadata": {
        "id": "36487aab"
      },
      "source": [
        "#### 91. How to create a record array from a regular array? (★★★)"
      ]
    },
    {
      "cell_type": "code",
      "execution_count": null,
      "id": "9779dbac",
      "metadata": {
        "id": "9779dbac"
      },
      "outputs": [],
      "source": []
    },
    {
      "cell_type": "markdown",
      "id": "9f178562",
      "metadata": {
        "id": "9f178562"
      },
      "source": [
        "#### 92. Consider a large vector Z, compute Z to the power of 3 using 3 different methods (★★★)"
      ]
    },
    {
      "cell_type": "code",
      "execution_count": null,
      "id": "b08000b8",
      "metadata": {
        "id": "b08000b8"
      },
      "outputs": [],
      "source": []
    },
    {
      "cell_type": "markdown",
      "id": "86acaf60",
      "metadata": {
        "id": "86acaf60"
      },
      "source": [
        "#### 93. Consider two arrays A and B of shape (8,3) and (2,2). How to find rows of A that contain elements of each row of B regardless of the order of the elements in B? (★★★)"
      ]
    },
    {
      "cell_type": "code",
      "execution_count": null,
      "id": "793b26d4",
      "metadata": {
        "id": "793b26d4"
      },
      "outputs": [],
      "source": []
    },
    {
      "cell_type": "markdown",
      "id": "c71b9df2",
      "metadata": {
        "id": "c71b9df2"
      },
      "source": [
        "#### 94. Considering a 10x3 matrix, extract rows with unequal values (e.g. [2,2,3]) (★★★)"
      ]
    },
    {
      "cell_type": "code",
      "execution_count": null,
      "id": "494069f0",
      "metadata": {
        "id": "494069f0"
      },
      "outputs": [],
      "source": []
    },
    {
      "cell_type": "markdown",
      "id": "1a8ae7c1",
      "metadata": {
        "id": "1a8ae7c1"
      },
      "source": [
        "#### 95. Convert a vector of ints into a matrix binary representation (★★★)"
      ]
    },
    {
      "cell_type": "code",
      "execution_count": null,
      "id": "d5e967b8",
      "metadata": {
        "id": "d5e967b8"
      },
      "outputs": [],
      "source": []
    },
    {
      "cell_type": "markdown",
      "id": "edef1198",
      "metadata": {
        "id": "edef1198"
      },
      "source": [
        "#### 96. Given a two dimensional array, how to extract unique rows? (★★★)"
      ]
    },
    {
      "cell_type": "code",
      "execution_count": null,
      "id": "fa14799b",
      "metadata": {
        "id": "fa14799b"
      },
      "outputs": [],
      "source": []
    },
    {
      "cell_type": "markdown",
      "id": "575598a1",
      "metadata": {
        "id": "575598a1"
      },
      "source": [
        "#### 97. Considering 2 vectors A & B, write the einsum equivalent of inner, outer, sum, and mul function (★★★)"
      ]
    },
    {
      "cell_type": "code",
      "execution_count": null,
      "id": "9da72f6e",
      "metadata": {
        "id": "9da72f6e"
      },
      "outputs": [],
      "source": []
    },
    {
      "cell_type": "markdown",
      "id": "88e2796a",
      "metadata": {
        "id": "88e2796a"
      },
      "source": [
        "#### 98. Considering a path described by two vectors (X,Y), how to sample it using equidistant samples (★★★)?"
      ]
    },
    {
      "cell_type": "code",
      "execution_count": null,
      "id": "c17314f8",
      "metadata": {
        "id": "c17314f8"
      },
      "outputs": [],
      "source": []
    },
    {
      "cell_type": "markdown",
      "id": "8b25b7bd",
      "metadata": {
        "id": "8b25b7bd"
      },
      "source": [
        "#### 99. Given an integer n and a 2D array X, select from X the rows which can be interpreted as draws from a multinomial distribution with n degrees, i.e., the rows which only contain integers and which sum to n. (★★★)"
      ]
    },
    {
      "cell_type": "code",
      "execution_count": null,
      "id": "f0dc48cd",
      "metadata": {
        "id": "f0dc48cd"
      },
      "outputs": [],
      "source": []
    },
    {
      "cell_type": "markdown",
      "id": "b7068c76",
      "metadata": {
        "id": "b7068c76"
      },
      "source": [
        "#### 100. Compute bootstrapped 95% confidence intervals for the mean of a 1D array X (i.e., resample the elements of an array with replacement N times, compute the mean of each sample, and then compute percentiles over the means). (★★★)"
      ]
    },
    {
      "cell_type": "code",
      "execution_count": null,
      "id": "3c234201",
      "metadata": {
        "id": "3c234201"
      },
      "outputs": [],
      "source": []
    }
  ],
  "metadata": {
    "colab": {
      "provenance": [],
      "include_colab_link": true
    },
    "kernelspec": {
      "display_name": "Python 3",
      "name": "python3"
    },
    "language_info": {
      "name": "python"
    }
  },
  "nbformat": 4,
  "nbformat_minor": 5
}